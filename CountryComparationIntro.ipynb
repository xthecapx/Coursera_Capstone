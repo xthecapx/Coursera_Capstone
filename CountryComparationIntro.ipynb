{
 "cells": [
  {
   "cell_type": "markdown",
   "metadata": {},
   "source": [
    "# Introduction/Business Problem\n",
    "\n",
    "The downtown is one of the more representative sectors in every city. In this databook, I will create a comparison of the centers of the 10 cities with more population in Canada. The idea will be to get the list of the venues in the downtown area by using the Foursquare API. The idea is to determine what are the differences and similitudes between these three main cities in Canada.\n",
    "\n",
    "# Data set\n",
    "\n",
    "In this section I'll explain what's the process behind the creation of the base data set.\n",
    "\n",
    "First, I'll get the list of the 100 largest population centres in Canada from [this wikipedia article] (https://en.wikipedia.org/wiki/List_of_the_100_largest_population_centres_in_Canada).\n",
    "\n",
    "With the information of the top 10 cities in place, I'll create a polygon with the shape of the downtown. Also, I'll get the coordinates manually from google maps. As an example, you can explore the [map of Montreal](https://www.google.com/maps/place/Downtown+Montreal,+Montreal,+QC/@45.5057346,-73.5850421,14z/data=!3m1!4b1!4m5!3m4!1s0x4cc91a42465421bd:0xfbb91c3e6b1f6a78!8m2!3d45.5034801!4d-73.5684895) available in google maps. The Montreal's coordinates separate by semicolon are:  `45.496571,-73.581776;45.518796,-73.566700;45.513003,-73.553314;45.492559,-73.572295`.\n",
    "\n",
    "With the polygons in place, I'll get the list of the top 100 venues using `/explore&polygon=<shape>` endpoint from the foursquare API. As an example, you can check the Montreal polygon in action using the Foursquare [city tour app](https://foursquare.com/explore?mode=url&polygon=45.51302345955653%2C-73.55329513549805%3B45.49257023754937%2C-73.57226371765135%3B45.496541150087026%2C-73.58179092407225%3B45.51879714173096%2C-73.56668472290039%3B45.51302345955653%2C-73.55329513549805\n",
    "). Is important to notice the semicolom needs to be enconded, I'll use [this tool](https://www.urlencoder.org/) to generate the encoded version of the query param. For more information about the polygon param, you can check the [API Documentation](https://developer.foursquare.com/docs/pilgrim-sdk/geofences-api/add-polygon)\n",
    "\n",
    "Finally, I'll group the cites' information by the venue type, I'll run the k-means clustering algorithm, and I'll write down some conclusions with the findings."
   ]
  },
  {
   "cell_type": "code",
   "execution_count": null,
   "metadata": {},
   "outputs": [],
   "source": []
  }
 ],
 "metadata": {
  "kernelspec": {
   "display_name": "Python 3",
   "language": "python",
   "name": "python3"
  },
  "language_info": {
   "codemirror_mode": {
    "name": "ipython",
    "version": 3
   },
   "file_extension": ".py",
   "mimetype": "text/x-python",
   "name": "python",
   "nbconvert_exporter": "python",
   "pygments_lexer": "ipython3",
   "version": "3.7.6"
  }
 },
 "nbformat": 4,
 "nbformat_minor": 4
}
