{
 "cells": [
  {
   "cell_type": "markdown",
   "metadata": {},
   "source": [
    "# Introduction/Business Problem\n",
    "\n",
    "The downtown is one of the more representative sectors in every city. In this databook, I will create a comparison of the centers of the 10 cities with more population in Canada. \n",
    "\n",
    "To make the comparison, I will use the Foursquare API to get the most frequent places in a given area, I'll group the data by city, and finally, I will create clusters to find relations between the available businesses.\n",
    "\n",
    "As a result of this short study, I will try to answer how similar are the downtowns of more populate cities in Canada?.\n",
    "\n",
    "# Data description\n",
    "\n",
    "The initial data set is the 100 largest population centres in Canada. This information is available in [this wikipedia article] (https://en.wikipedia.org/wiki/List_of_the_100_largest_population_centres_in_Canada).\n",
    "\n",
    "With the information of the top 10 cities in place, I'll create a polygon with the shape of each downtown. The coordinates had to be extracted manually from google maps. As an example, you can explore the [map of Montreal](https://www.google.com/maps/place/Downtown+Montreal,+Montreal,+QC/@45.5057346,-73.5850421,14z/data=!3m1!4b1!4m5!3m4!1s0x4cc91a42465421bd:0xfbb91c3e6b1f6a78!8m2!3d45.5034801!4d-73.5684895). The Montreal's coordinates separate by semicolon are:  `45.496571,-73.581776;45.518796,-73.566700;45.513003,-73.553314;45.492559,-73.572295`.\n",
    "\n",
    "With the polygons in place, I'll get the list of the top 100 venues using `/explore&polygon=<shape>` endpoint of the foursquare API. As an example, you can check the Montreal polygon in action using the Foursquare [city tour app](https://foursquare.com/explore?mode=url&polygon=45.51302345955653%2C-73.55329513549805%3B45.49257023754937%2C-73.57226371765135%3B45.496541150087026%2C-73.58179092407225%3B45.51879714173096%2C-73.56668472290039%3B45.51302345955653%2C-73.55329513549805\n",
    "). Is important to notice the semicolon needs to be encoded, I'll use [this tool](https://www.urlencoder.org/) to generate the encoded version of the query param. For more information about the polygon param, you can check the [API Documentation](https://developer.foursquare.com/docs/pilgrim-sdk/geofences-api/add-polygon)\n",
    "\n",
    "# Methodology\n",
    "\n",
    "During the data preparation includes the following steps:\n",
    "\n",
    "1. Create a dataframe with the City and the polygon of the downtown.\n",
    "2. Get the venue information using the following url `https://api.foursquare.com/v2/venues/explore?&client_id={}&client_secret={}&v={}&polygon={}&limit={}`\n",
    "3. Create a dataframe with the name of the city, venue name, venue latitude, venue Longitude, and venue category.\n",
    "4. Create dummies version of the business category for every row.\n",
    "5. Group the dataframe by city and find the mean of the business type.\n",
    "6. Generate a dataframe with the most 10 common venues for every city.\n",
    "\n",
    "For the clustering part, I'll use the k-means clustering algorithm.\n",
    "\n",
    "# Conclusions\n",
    "\n",
    "1. By exploring the data of Vancouver and Calgary have similar downtowns prepared to receive tourists and reflect some of the American styles.\n",
    "2. Quebec City has its own style. Quebec city displays a French style with a downtown ready to received tourist.\n",
    "3. Montreal, Ottawa, and Toronto are similar to reflect coffee shops, restaurants, and hotels as the most commons business.\n",
    "4. Edmonton, Kitchener, and Winnipeg have related downtown that includes some nightlife businesses."
   ]
  },
  {
   "cell_type": "code",
   "execution_count": null,
   "metadata": {},
   "outputs": [],
   "source": []
  }
 ],
 "metadata": {
  "kernelspec": {
   "display_name": "Python 3",
   "language": "python",
   "name": "python3"
  },
  "language_info": {
   "codemirror_mode": {
    "name": "ipython",
    "version": 3
   },
   "file_extension": ".py",
   "mimetype": "text/x-python",
   "name": "python",
   "nbconvert_exporter": "python",
   "pygments_lexer": "ipython3",
   "version": "3.7.6"
  }
 },
 "nbformat": 4,
 "nbformat_minor": 4
}
